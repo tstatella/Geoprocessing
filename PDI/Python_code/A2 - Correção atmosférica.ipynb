{
 "cells": [
  {
   "cell_type": "markdown",
   "metadata": {},
   "source": [
    "# 1 Correção atmosférica"
   ]
  },
  {
   "cell_type": "markdown",
   "metadata": {},
   "source": [
    "**Código para correção de efeitos atmosféricos segundo**\n",
    " \n",
    "`CHAVEZ Jr., P.S. An improved dark-object subtraction technique for \n",
    "scattering correction of multispectral data. Remote Sensing of Environment,\n",
    "New York, v.24, p.459-479, 1988.`"
   ]
  },
  {
   "cell_type": "code",
   "execution_count": null,
   "metadata": {},
   "outputs": [],
   "source": [
    "print(\"*********************************************************************\");\n",
    "print('****        Código criado pelo Prof. Dr. Thiago Statella         ****');\n",
    "print('****        Disciplina: Processamento Digital de Imagens         ****');\n",
    "print('****  Instituto Federal de Educação, Ciência e Tecnologia de MT  ****');\n",
    "print('*********************************************************************');\n",
    "print(' ');\n",
    "print(' ');"
   ]
  },
  {
   "cell_type": "code",
   "execution_count": null,
   "metadata": {},
   "outputs": [],
   "source": [
    "%matplotlib inline\n",
    "%config InlineBackend.figure_format = 'retina'\n",
    "\n",
    "import numpy as np # as imagens são lidas como numpy arrays\n",
    "from matplotlib import pyplot as plt # é preciso chamar os submódulos\n",
    "from skimage import io, filters\n",
    "from skimage.exposure import histogram\n",
    "import datetime"
   ]
  },
  {
   "source": [
    "Leitura da imagem:"
   ],
   "cell_type": "markdown",
   "metadata": {}
  },
  {
   "cell_type": "code",
   "execution_count": null,
   "metadata": {},
   "outputs": [],
   "source": [
    "#Leitura da imagem\n",
    "Name  = input('Informe o nome da imagem (banda azul): ')\n",
    "print(f\"Nome da imagem: {Name}\"); "
   ]
  },
  {
   "source": [
    "Especificando o sensor e ganho (pro caso do L7):"
   ],
   "cell_type": "markdown",
   "metadata": {}
  },
  {
   "cell_type": "code",
   "execution_count": null,
   "metadata": {},
   "outputs": [],
   "source": [
    "L     = int(input('Landsat-5 ou Landsat-7? '))\n",
    "\n",
    "if L == 7:\n",
    "    Ganho = input('Ganho baixo (1) ou alto (2)? ')\n",
    "\n",
    "print(f\"Landsat - {L}\")\n",
    "print(f\"Ganho: {Ganho}\")"
   ]
  },
  {
   "source": [
    "Informe a data de aquisição da imagem:"
   ],
   "cell_type": "markdown",
   "metadata": {}
  },
  {
   "cell_type": "code",
   "execution_count": null,
   "metadata": {},
   "outputs": [],
   "source": [
    "Data  = input('Informe a data de aquisição da imagem (YYYY-MM-DD): ')\n",
    "#Transformando em um número para poder comparar diferentes datas\n",
    "print(f\"Data: {Data}\")"
   ]
  },
  {
   "cell_type": "code",
   "execution_count": null,
   "metadata": {},
   "outputs": [],
   "source": [
    "#obtenha a data em dias julianos a partir da string:\n",
    "Data_img = datetime.datetime.strptime(Data, \"%Y-%m-%d\").strftime('%j')\n",
    "Data_img = float(Data_img)\n",
    "#my_date = datetime.strptime(Data, \"%Y-%m-%d\")\n",
    "#Data    = datetime.timestamp(my_date)\n",
    "print(f\"Dia do ano: {Data_img}\")"
   ]
  },
  {
   "cell_type": "code",
   "execution_count": null,
   "metadata": {},
   "outputs": [],
   "source": [
    "Get0  = io.imread(Name); #Leitura da imagem\n",
    "hist, hist_centers = histogram(Get0)# histograma da imagem. hist_centers são os centros dos bins.\n",
    "#Para imagens do tipo int, cada tom de cinza é seu próprio bin.\n",
    "\n",
    "fig, ax = plt.subplots(ncols=2, figsize=(8, 4),\n",
    "                        gridspec_kw={'width_ratios':[1,2]},\n",
    "                        constrained_layout=True); \n",
    "ax[0].imshow(Get0, vmin=0, vmax=255, cmap='gray')\n",
    "ax[0].set_title(Get0.shape); \n",
    "#ax[0].axis('off')\n",
    "\n",
    "ax[1].plot(hist_centers, hist)\n",
    "ax[1].set_title('Histograma'); "
   ]
  },
  {
   "source": [
    "Informe o valor inicial do pixel com bruma:"
   ],
   "cell_type": "markdown",
   "metadata": {}
  },
  {
   "cell_type": "code",
   "execution_count": null,
   "metadata": {},
   "outputs": [],
   "source": [
    "NDmin = input('Insira o valor do pixel com bruma'); \n",
    "NDmin = int(NDmin)"
   ]
  },
  {
   "cell_type": "code",
   "execution_count": null,
   "metadata": {},
   "outputs": [],
   "source": [
    "#Testando para identificar o modelo de espalhamento atmosférico\n",
    "if NDmin < 56:\n",
    "   Power = -4\n",
    "   Mod = 'Muito limpa'\n",
    "if NDmin >= 56 and NDmin < 75:\n",
    "   Power = -2\n",
    "   Mod = 'Limpa'\n",
    "if NDmin >= 75 and NDmin < 95:\n",
    "   Power = -1\n",
    "   Mod = 'Moderada'\n",
    "if NDmin >= 95 and NDmin < 115:\n",
    "   Power = -0.7\n",
    "   Mod = 'Com bruma'\n",
    "if NDmin >= 115:\n",
    "   Power = -0.5\n",
    "   Mod = 'Com muita bruma'\n",
    "\n",
    "print(f\"A potência do Modelo de Espalhamento (Lambda^Power) identificada foi: {Power}\")\n",
    "print(f\"O modelo adotado é: {Mod}\")"
   ]
  },
  {
   "cell_type": "code",
   "execution_count": null,
   "metadata": {},
   "outputs": [],
   "source": [
    "#Valores médios de comprimento de onda para as bandas do Landsat 5/7\n",
    "MeanLambda_Azul     = 0.485\n",
    "MeanLambda_Verde    = 0.560\n",
    "MeanLambda_Vermelho = 0.660\n",
    "MeanLambda_IVP      = 0.830\n",
    "MeanLambda_IVM1     = 1.650\n",
    "MeanLambda_IVM2     = 2.215"
   ]
  },
  {
   "source": [
    "Função específica de espalhamento atmosférico para cada uma das bandas de acordo\n",
    "com o modelo de atmosférico estabelecido a partir do ND escuro lido na banda\n",
    "do Azul:"
   ],
   "cell_type": "markdown",
   "metadata": {}
  },
  {
   "cell_type": "code",
   "execution_count": null,
   "metadata": {},
   "outputs": [],
   "source": [
    "\"\"\"Função específica de espalhamento atmosférico para cada uma das bandas de acordo\n",
    "com o modelo de atmosférico estabelecido a partir do ND escuro lido na banda\n",
    "do Azul\"\"\"\n",
    "\n",
    "MOD_Esp_Azul     = MeanLambda_Azul**Power\n",
    "MOD_Esp_Verde    = MeanLambda_Verde**Power\n",
    "MOD_Esp_Vermelho = MeanLambda_Vermelho**Power\n",
    "MOD_Esp_IVP      = MeanLambda_IVP**Power\n",
    "MOD_Esp_IVM1     = MeanLambda_IVM1**Power\n",
    "MOD_Esp_IVM2     = MeanLambda_IVM2**Power"
   ]
  },
  {
   "source": [
    "Estimando valores de ND com reflectância mínima para as demais bandas,apartir do valor ND identificado na banda do Azul. Os dados abaixo são factores de multiplicação que serão usados para predizer valores de bruma nas bandas 2 a 7. Eles são calculados usando o modelo específico de espalhamento para a banda Azul como normalizador"
   ],
   "cell_type": "markdown",
   "metadata": {}
  },
  {
   "cell_type": "code",
   "execution_count": null,
   "metadata": {},
   "outputs": [],
   "source": [
    "\"\"\"% Estimando valores de ND com reflectância mínima para as demais bandas,a\n",
    "% partir do valor ND identificado na banda do Azul\n",
    "% Os dados abaixo são factores de multiplicação que serão usados para predizer\n",
    "% valores de bruma nas bandas 2 a 7. Eles são calculados usando o modelo \n",
    "% específico de espalhamento para a banda Azul como normalizador\"\"\"\n",
    "\n",
    "Factor_Predict_Azul     = MOD_Esp_Azul / MOD_Esp_Azul\n",
    "Factor_Predict_Verde    = MOD_Esp_Verde / MOD_Esp_Azul\n",
    "Factor_Predict_Vermelho = MOD_Esp_Vermelho / MOD_Esp_Azul\n",
    "Factor_Predict_IVP      = MOD_Esp_IVP / MOD_Esp_Azul\n",
    "Factor_Predict_IVM1     = MOD_Esp_IVM1 / MOD_Esp_Azul\n",
    "Factor_Predict_IVM2     = MOD_Esp_IVM2 / MOD_Esp_Azul"
   ]
  },
  {
   "source": [
    "Os valores acima ainda são fatores de multiplicação para prever os valores ND com bruma.\n",
    "Precisamos considerar as variações de ganho e offset de cada banda.\n",
    "Isso pode ser resolvido gerando fatores de ganho normalizados. \n",
    "Estes valores são então aplicados aos NDs de bruma que serão preditos juntamente com os respectivos offsets para encontrar os valores verdadeiros de bruma para cada banda.\n",
    "\n",
    "Os NDs da imagem podem ser estimados por meio de \n",
    ">```\n",
    ">ND = Gain * L + Offset \n",
    ">```\n",
    "\n",
    "em que L é a radiância. \n",
    "Temos que: \n",
    "\n",
    ">```\n",
    ">L = {[(Lmax - Lmin) / 255] * ND} + Lmin\n",
    ">```\n",
    "\n",
    "Portanto:\n",
    "\n",
    ">```\n",
    ">ND = [(L - Lmin) * 255] / (Lmax - Lmin)\n",
    ">```\n",
    "\n",
    "Fazendo\n",
    "\n",
    ">```\n",
    ">G = 255 / (Lmax - Lmin) e Offset = (-255 * Lmin) / (Lmax - Lmin)\n",
    ">```\n",
    "\n",
    "Podemos escrever:\n",
    "\n",
    ">```\n",
    ">ND = G * L + Offset\n",
    ">```"
   ],
   "cell_type": "markdown",
   "metadata": {}
  },
  {
   "source": [
    "Para o landsat - 5"
   ],
   "cell_type": "markdown",
   "metadata": {}
  },
  {
   "cell_type": "code",
   "execution_count": null,
   "metadata": {},
   "outputs": [],
   "source": [
    "# NOTE: OS VALORES DE CALIBRAÇÃO SÃO DA BANDA 1 À 7, INCLUINDO A BANDA 6 DO TERMAL\n",
    " #Parâmetros de calibração para o TM5 antes de 04/05/2003 em W/m^2.sr.um\n",
    " #Parâmetros de calibração para o TM5 depois de 04/05/2003 em W/m^2.sr.um\n",
    " #Data_img = dt.datetime.strptime(Data, \"%Y-%m-%d\").strftime('%j')\n",
    "#Data_img = float(Data_img)\n",
    "if L == 5:\n",
    "    #Data04052003  = datetime.timestamp(datetime.strptime('2003-05-04', \"%Y-%m-%d\"))\n",
    "    Data04052003 = datetime.datetime.strptime('2003-05-04', \"%Y-%m-%d\").strftime('%j')\n",
    "    if Data_img <= float(Data04052003):\n",
    "        Lmin = np.array([-1.52, -2.84, -1.17, -1.51, -0.37, 1.2378, -0.15])\n",
    "        Lmax = np.array([152.1, 296.81, 204.3, 206.2, 27.19, 15.303, 14.38])\n",
    "    else:\n",
    "        Lmin = np.array([-1.52, -2.84, -1.17, -1.51, -0.37, 1.2378, -0.15])\n",
    "        Lmax = np.array([193, 365, 264, 221, 30.2, 15.303, 16.5])"
   ]
  },
  {
   "source": [
    "Para o Landsat - 7"
   ],
   "cell_type": "markdown",
   "metadata": {}
  },
  {
   "cell_type": "code",
   "execution_count": null,
   "metadata": {},
   "outputs": [],
   "source": [
    "#NOTE: OS VALORES DE CALIBRAÇÃO SÃO DA BANDA 1 À 7, INCLUINDO A BANDA 6 DO TERMAL\n",
    "#%Parâmetros de calibração para o ETM+ antes de 01/07/2000 em W/m^2.sr.um\n",
    "#Ganho baixo (1) e alto (2)\n",
    "if L == 7 and int(Ganho) == 1:\n",
    "    #Data01072000  = datetime.timestamp(datetime.strptime('2000-07-01', \"%Y-%m-%d\"))\n",
    "    Data01072000 = datetime.datetime.strptime('2000-07-01', \"%Y-%m-%d\").strftime('%j')\n",
    "    if Data_img <= float(Data01072000):\n",
    "        Lmin = np.array([-6.2, -6, -4.5, -4.5, -1, 0, -0.35])\n",
    "        Lmax = np.array([297.5, 303.4, 235.5, 235, 47.7, 17.04, 16.6])\n",
    "    else:\n",
    "        Lmin = np.array([-6.2, -6.4, -5, -5.1, -1, 0.0, -0.35])\n",
    "        Lmax = np.array([293.7, 300.9, 234.4, 241.1, 47.57, 17.04, 16.54])\n",
    "\n",
    "if L == 7 and int(Ganho) == 2:\n",
    "    #Data01072000  = datetime.timestamp(datetime.strptime('2000-07-01', \"%Y-%m-%d\"))\n",
    "    Data01072000 = datetime.datetime.strptime('2000-07-01', \"%Y-%m-%d\").strftime('%j')\n",
    "    if Data_img <= float(Data01072000):\n",
    "        Lmin = np.array([-6.2, -6, -4.5, -4.5, -1, 3.2, -0.35])\n",
    "        Lmax = np.array([194.3, 202.4, 158.6, 157.5, 31.76, 12.65, 10.932])\n",
    "    else:\n",
    "        Lmin = np.array([-6.2, -6.4, -5, -5.1, -1, 3.2, -0.35])\n",
    "        Lmax = np.array([191.6, 196.5, 152.9, 157.4, 31.06, 12.65, 10.8])"
   ]
  },
  {
   "cell_type": "code",
   "execution_count": null,
   "metadata": {},
   "outputs": [],
   "source": [
    "\"\"\"%Calculando o Ganho e offset\n",
    "%Fazendo Gain = 255 / (Lmax - Lmin) e Offset = (-255 * Lmin) / (Lmax - Lmin)\n",
    "%Podemos escrever: ND = Gain * L + Offset\"\"\"\n",
    "\n",
    "Gain_Azul       = 255 / (Lmax[0] - Lmin[0])\n",
    "Offset_Azul     = -255 * Lmin[0] / (Lmax[0] - Lmin[0])\n",
    "Gain_Verde      = 255 / (Lmax[1] - Lmin[1])\n",
    "Offset_Verde    = -255 * Lmin[1] / (Lmax[1] - Lmin[1])\n",
    "Gain_Vermelho   = 255 / (Lmax[2] - Lmin[2])\n",
    "Offset_Vermelho = -255 * Lmin[2] / (Lmax[2] - Lmin[2])\n",
    "Gain_IVP        = 255 / (Lmax[3] - Lmin[3])\n",
    "Offset_IVP      = -255 * Lmin[3]/ (Lmax[3] - Lmin[3])\n",
    "Gain_IVM1       = 255 / (Lmax[4] - Lmin[4])\n",
    "Offset_IVM1     = -255 * Lmin[4] / (Lmax[4] - Lmin[4])\n",
    "Gain_IVM2       = 255 / (Lmax[6] - Lmin[6])\n",
    "Offset_IVM2     = -255 * Lmin[6] / (Lmax[6] - Lmin[6])"
   ]
  },
  {
   "cell_type": "code",
   "execution_count": null,
   "metadata": {},
   "outputs": [],
   "source": [
    "\"\"\"%Estimando os fatores de ganho normalizados: Gain_Azul / Gain_Bi = 2,\n",
    "%3,..., 7.\"\"\"\n",
    "\n",
    "NormalizedGain_Azul     = Gain_Azul / Gain_Azul\n",
    "NormalizedGain_Verde    = Gain_Verde / Gain_Azul\n",
    "NormalizedGain_Vermelho = Gain_Vermelho / Gain_Azul\n",
    "NormalizedGain_IVP      = Gain_IVP / Gain_Azul\n",
    "NormalizedGain_IVM1     = Gain_IVM1 / Gain_Azul\n",
    "NormalizedGain_IVM2     = Gain_IVM2 / Gain_Azul"
   ]
  },
  {
   "source": [
    "Esta normalização juntamente com os offsets permitem transformar os valores de ND com bruma preditos em ND com bruma reais. Isto é feito aplicando-se a seguinte equação:\n",
    "\n",
    ">```\n",
    ">NDhaze = NormalizedGain * ND_Predicted + Offset\n",
    ">```\n",
    "\n",
    "Os valores preditos para a banda 2, por exemplo, são calculados como:\n",
    "\n",
    ">```\n",
    ">ND_Predicted_2 = (NDmin - Offset_Azul) * Factor_Predict_Verde\n",
    ">```"
   ],
   "cell_type": "markdown",
   "metadata": {}
  },
  {
   "cell_type": "code",
   "execution_count": null,
   "metadata": {},
   "outputs": [],
   "source": [
    "ND_Predicted_Azul     = (NDmin - Offset_Azul) * Factor_Predict_Azul\n",
    "ND_Predicted_Verde    = (NDmin - Offset_Azul) * Factor_Predict_Verde\n",
    "ND_Predicted_Vermelho = (NDmin - Offset_Azul) * Factor_Predict_Vermelho\n",
    "ND_Predicted_IVP      = (NDmin - Offset_Azul) * Factor_Predict_IVP\n",
    "ND_Predicted_IVM1     = (NDmin - Offset_Azul) * Factor_Predict_IVM1\n",
    "ND_Predicted_IVM2     = (NDmin - Offset_Azul) * Factor_Predict_IVM2"
   ]
  },
  {
   "source": [
    "Finalmente, os valores de ND com bruma são obtidos por:"
   ],
   "cell_type": "markdown",
   "metadata": {}
  },
  {
   "cell_type": "code",
   "execution_count": null,
   "metadata": {},
   "outputs": [],
   "source": [
    "ND_Haze_Azul     = round((NormalizedGain_Azul * ND_Predicted_Azul) + Offset_Azul)\n",
    "ND_Haze_Verde    = round((NormalizedGain_Verde * ND_Predicted_Verde) + Offset_Verde)\n",
    "ND_Haze_Vermelho = round((NormalizedGain_Vermelho * ND_Predicted_Vermelho) + Offset_Vermelho)\n",
    "ND_Haze_IVP      = round((NormalizedGain_IVP * ND_Predicted_IVP) + Offset_IVP)\n",
    "ND_Haze_IVM1     = round((NormalizedGain_IVM1 * ND_Predicted_IVM1) + Offset_IVM1)\n",
    "ND_Haze_IVM2     = round((NormalizedGain_IVM2 * ND_Predicted_IVM2) + Offset_IVM2)\n",
    "\n",
    "print(f\"Espalhamento em ND na banda do Azul: {ND_Haze_Azul}\")\n",
    "print(f\"Espalhamento em ND na banda do Verde: {ND_Haze_Verde}\")\n",
    "print(f\"Espalhamento em ND na banda do Vermelho: {ND_Haze_Vermelho}\")\n",
    "print(f\"Espalhamento em ND na banda do IVP: {ND_Haze_IVP}\")\n",
    "print(f\"Espalhamento em ND na banda do IVM1: {ND_Haze_IVM1}\")\n",
    "print(f\"Espalhamento em ND na banda do IVM2: {ND_Haze_IVM2}\")\n",
    "print(type(ND_Haze_Azul))"
   ]
  },
  {
   "cell_type": "code",
   "execution_count": null,
   "metadata": {},
   "outputs": [],
   "source": [
    "Val = np.array([ND_Haze_Azul, ND_Haze_Verde, ND_Haze_Vermelho, ND_Haze_IVP, ND_Haze_IVM1,ND_Haze_IVM2])\n",
    "x = np.array([1, 2, 3, 4, 5, 7])\n",
    "\n",
    "fig, ax = plt.subplots(figsize=(3,2),constrained_layout=True)\n",
    "ax.plot(x,Val,label='ND',linewidth=1); \n",
    "ax.set_xticks([1,2,3,4,5,7]); \n",
    "ax.set_xticklabels(['B1', 'B2', 'B3','B4','B5','B7'],fontsize=8); \n",
    "ax.grid()\n",
    "ax.legend()\n",
    "ax.set_title(\"Valores de Correção\",fontsize=8)\n",
    "ax.set_ylabel(\"Valor [ND]\",fontsize=8)\n",
    "ax.set_xlabel(\"Bandas\",fontsize=8); "
   ]
  },
  {
   "source": [
    "APLICAR A CORREÇÃO ÀS IMAGENS, EXIBIR IMAGENS E HISTOGRAMAS"
   ],
   "cell_type": "markdown",
   "metadata": {}
  },
  {
   "cell_type": "raw",
   "metadata": {},
   "source": [
    "%matplotlib inline\r\n",
    "%config InlineBackend.figure_format = 'retina'\r\n",
    "\r\n",
    "import numpy as np # as imagens são lidas como numpy arrays\r\n",
    "from matplotlib import pyplot as plt # é preciso chamar os submódulos\r\n",
    "# import matplotlib.pyplot as plt = outra maneira de fazer!\r\n",
    "from skimage import io, filters"
   ]
  },
  {
   "cell_type": "raw",
   "metadata": {},
   "source": [
    "print('*********************************************************************');\r\n",
    "print('****        Código criado pelo Prof. Dr. Thiago Statella         ****');\r\n",
    "print('****        Disciplina: Processamento Digital de Imagens         ****');\r\n",
    "print('****  Instituto Federal de Educação, Ciência e Tecnologia de MT  ****');\r\n",
    "print('*********************************************************************');\r\n",
    "print(' ');\r\n",
    "print(' ');"
   ]
  }
 ],
 "metadata": {
  "kernelspec": {
   "name": "python388jvsc74a57bd0b3ba2566441a7c06988d0923437866b63cedc61552a5af99d1f4fb67d367b25f",
   "display_name": "Python 3.8.8 64-bit ('base': conda)"
  },
  "language_info": {
   "name": "python",
   "version": "3.8.8"
  },
  "orig_nbformat": 2
 },
 "nbformat": 4,
 "nbformat_minor": 2
}