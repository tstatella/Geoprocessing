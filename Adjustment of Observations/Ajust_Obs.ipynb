{
 "cells": [
  {
   "cell_type": "markdown",
   "id": "525ce2e3-4cdd-4a30-bf69-408791d77d46",
   "metadata": {
    "tags": []
   },
   "source": [
    "# <div align=\"center\"> INSTALAÇÃO DO KERNEL </div>"
   ]
  },
  {
   "cell_type": "markdown",
   "id": "34bf9f8c-4639-4195-bd9b-3dcc8121f934",
   "metadata": {
    "tags": []
   },
   "source": [
    "\n",
    "Seguir instruções em:\n",
    "\n",
    ">`https://github.com/Calysto/octave_kernel`\n",
    "\n",
    ">``conda config --add channels conda-forge``\n",
    "\n",
    ">`conda install octave_kernel`\n",
    "\n",
    "We require the octave-cli executable to run the kernel. Add that executable's directory to the PATH environment variable or use the OCTAVE_EXECUTABLE to point to the executable itself. Note that on Octave 5 on Windows, the executable is in \"Octave-5.x.x.x\\mingw64\\bin\"\n",
    "\n",
    "ver figura 'configuração_octave.png'\n",
    "\n",
    "Para plotar figuras e imagens:\n",
    "\n",
    ">`graphics_toolkit(\"gnuplot\");`"
   ]
  },
  {
   "cell_type": "markdown",
   "id": "697afea5-27df-485e-88b7-4729557e1920",
   "metadata": {},
   "source": [
    "# <div align=\"center\"> <span style='color:DarkOrange'> **AJUSTAMENTO DE OBSERVAÇÕES** </span> </div>\n",
    "<div align=\"center\">Professor Doutor Thiago Statella</div>\n",
    "<div align=\"center\">t.statella@gmail.com</div>\n",
    "<div align=\"center\">https://sites.google.com/view/statella/</div>"
   ]
  },
  {
   "cell_type": "markdown",
   "id": "dcba4ae0-2b2e-4987-a26b-2d6ff7a830f6",
   "metadata": {
    "heading_collapsed": "true",
    "tags": [],
    "toc-hr-collapsed": true
   },
   "source": [
    "# <span style='color:DarkOrange'> **1 REVISÃO** </span>"
   ]
  },
  {
   "cell_type": "markdown",
   "id": "f4923f1b-9744-4003-b0eb-d3d520239c85",
   "metadata": {
    "heading_collapsed": "true",
    "tags": []
   },
   "source": [
    "## 1.1 Derivadas"
   ]
  },
  {
   "cell_type": "markdown",
   "id": "ac9c7f1d-755d-48be-9c98-626ebee6d8f7",
   "metadata": {},
   "source": [
    "## 1.2 Teoria matricial"
   ]
  },
  {
   "cell_type": "markdown",
   "id": "8928661c-b5ea-4fc7-ab7c-c3176e8798ba",
   "metadata": {
    "tags": []
   },
   "source": [
    "# <span style='color:DarkOrange'> **2 CONCEITO DE OBSERVAÇÃO E MODELO MATEMÁTICO** </span>"
   ]
  },
  {
   "cell_type": "markdown",
   "id": "8538e81d-8837-4b3e-9e4a-d556b6c35e4f",
   "metadata": {},
   "source": [
    "O ajustamento é um ramo da matemática aplicada. Tem por objetivo a solução única para problemas em que o número de observações é redundante e o sistema de equações é inconsistente, bem como a estimativa da precisão da solução adotada. A inconsistência do sistema de equações é devido às flutuações probabilísticas das observações, e faz com que um determinado subconjunto de dados proporcione valores diferentes de um outro subconjunto."
   ]
  },
  {
   "cell_type": "markdown",
   "id": "cbb0f407-e0ca-4c3a-826c-0347861e1097",
   "metadata": {},
   "source": [
    "## 2.1 Observações"
   ]
  },
  {
   "cell_type": "markdown",
   "id": "e6ff9b5e-c96a-46e4-8a83-527bb7a0528e",
   "metadata": {},
   "source": [
    "O termo observação, ou medida, é frequentemente usado na prática para referir-se à operação, bem como para o resultado da operação. As observações possuem uma propriedade inerente: flutuações probabilísticas. Isso quer dizer que ao se repetir **$n$** vezes a medida de uma grandeza os **$n$** valores não serão idênticos, antes, estarão dispersos numa certa região ou intervalo, que tradicionalmente eram classificados como erros de observação. Nos casos mais simples as medidas são feitas sobre as próprias grandezas incógnitas, e são ditas, portanto, observações diretas. Algumas vezes as incógnitas se ligam por equações de condição, dando origem às observações diretas condicionadas. Em outras, medem-se grandezas que se vinculam às incógnitas através de relações funcionais, portanto têm-se as observações indiretas."
   ]
  },
  {
   "cell_type": "markdown",
   "id": "d6c8ac34-c8d3-49af-aca7-158a8b8c7fca",
   "metadata": {
    "heading_collapsed": "true",
    "tags": [],
    "toc-hr-collapsed": true
   },
   "source": [
    "#  <span style='color:DarkOrange'> **3 PROPRIEDADES DOS ERROS DAS OBSERVAÇÕES**</span>"
   ]
  },
  {
   "cell_type": "markdown",
   "id": "182b7e1c-1467-4a58-8cba-f07ab8323777",
   "metadata": {
    "heading_collapsed": "true",
    "tags": []
   },
   "source": [
    "## 3.1 Erros grosseiros"
   ]
  },
  {
   "cell_type": "markdown",
   "id": "b3959a70-da0b-48f4-9780-652b9db7e635",
   "metadata": {},
   "source": [
    "Frequentemente estão associados à desatenção do observador. Do ponto de vista estatístico, observações com erro grosseiro não podem ser consideradas como pertencentes à amostra da distribuição em questão, não podendo ser usadas com outras observações. Todas observações contaminadas com erro grosseiro devem ser rejeitadas."
   ]
  },
  {
   "cell_type": "markdown",
   "id": "c398b227-e2e2-4f5e-8f7c-67404daf3c35",
   "metadata": {
    "heading_collapsed": "true",
    "tags": []
   },
   "source": [
    "## 3.2 Erros sistemáticos"
   ]
  },
  {
   "cell_type": "markdown",
   "id": "9c33cc9d-677f-467c-89a3-74ae8e489915",
   "metadata": {},
   "source": [
    "São aqueles provenientes de causas conhecidas e podem, na maioria das vezes, ser evitados através de técnicas especiais de observação ou eliminados posteriormente mediante a aplicação de modelos matemáticos. Eles têm efeito cumulativo por apresentarem igual magnitude e sinal."
   ]
  },
  {
   "cell_type": "markdown",
   "id": "68d7ff88-7e0b-4a27-9358-bfeed75eba89",
   "metadata": {
    "heading_collapsed": "true",
    "tags": []
   },
   "source": [
    "## 3.3 Erros acidentais"
   ]
  },
  {
   "cell_type": "markdown",
   "id": "4ce9cf3a-f74b-4423-8a23-27d6d2a89e05",
   "metadata": {},
   "source": [
    "Também conhecidos como Aleatórios, não podem ser associados a nenhuma causa conhecida. Uma vez eliminados erros grosseiros e sistemáticos, as observações repetidas sobre uma mesma grandeza ainda se revelam inconsistentes. Enquanto os erros sistemáticos tendem a se acumular, os aleatórios tendem a se anular quando o número de observações cresce."
   ]
  },
  {
   "cell_type": "markdown",
   "id": "d51213f4-cb03-41ef-b67a-17edbf36f2a2",
   "metadata": {
    "tags": []
   },
   "source": [
    "## 3.4 Precisão, Exatidão, Matriz Cofatora e Matriz Peso"
   ]
  },
  {
   "cell_type": "markdown",
   "id": "d4471213-740e-4625-8b5c-b6ede09a9771",
   "metadata": {},
   "source": [
    "As variâncias $\\sigma_i^2$ e covariâncias $\\sigma_{ij}$ de um conjunto de $n$ observações $L_b$ podem ser dispostas de maneira a formar uma matriz quadrada $n \\times n$ representada por $\\Sigma_{L_b}$ $\\eqref{eq:Eq1}$:\n",
    "\n",
    "\\begin{equation}\n",
    "\\Sigma_{L_b} =\n",
    "\\begin{bmatrix}\n",
    "\\sigma_1^2 & \\sigma_{12} & \\dots & \\sigma_{1n} \\\\\n",
    "\\sigma_{21} & \\sigma_2^2 & \\dots & \\sigma_{2n} \\\\\n",
    "\\vdots & \\vdots & \\ddots & \\vdots \\\\\n",
    "\\sigma_{n1} & \\sigma_{n2} & \\dots & \\sigma_n^2 \\\\\n",
    "\\end{bmatrix}\n",
    "\\label{eq:Eq1} \\tag{1}\n",
    "\\end{equation}\n",
    "\n",
    "Na prática, a matriz MVC é frequentemente substituída pela variância e covariância relativa. Em razão disto usa-se o termo matriz dos coeficientes de peso ou de matriz cofatora. Designando a matriz cofatora por $Q$ e representando cada um de seus elementos por $q$, um cofator relaciona-se com uma variância/covariância da seguinte maneira $\\eqref{eq:Eq2}$:\n",
    "\n",
    "\\begin{equation}\n",
    "\\sigma_i^2 = \\sigma_0^2q_i \\\\\n",
    "\\sigma_{ij} = \\sigma_0^2q_{ij}\\\\\n",
    "\\label{eq:Eq2} \\tag{2}\n",
    "\\end{equation}\n",
    "\n",
    "Na equação $\\eqref{eq:Eq2}$, $\\sigma_0^2$ é uma constante arbitrária, adimensional ou não, chamada de variância de referência ou variância a *priori*. A matriz cofatora relaciona-se com a MVC da seguinte maneira $\\eqref{eq:Eq3}$:\n",
    "\n",
    "\\begin{equation}\n",
    "Q=\\frac{\\sum_{L_b}}{\\sigma_0^2}\n",
    "\\label{eq:Eq3} \\tag{3}\n",
    "\\end{equation}\n",
    "\n",
    "Se a matriz $Q$ for não-singular ela admitirá uma inversa que é conhecida como a matriz dos pesos. Esta matriz é obtida a partir da Matriz de Variância-Covariância $\\Sigma_{L_b}$ das observações e da Variância a Priori $\\sigma_0^2$ $\\eqref{eq:Eq4}$:\n",
    "\n",
    "\\begin{equation}\n",
    "P=\\sigma_0^2\\Sigma_{L_b}^{-1}  \n",
    "\\label{eq:Eq4} \\tag{4}\n",
    "\\end{equation}"
   ]
  },
  {
   "cell_type": "markdown",
   "id": "4bdbb6a5-a861-4f2a-b915-31c0b9e53b69",
   "metadata": {
    "tags": []
   },
   "source": [
    "## 3.5 Erro Verdadeiro, Aparente e Resíduo"
   ]
  },
  {
   "cell_type": "markdown",
   "id": "1bc5dc67-74e9-4b77-8400-adcecf28fbae",
   "metadata": {},
   "source": [
    "Ao se designar o valor estimado de uma grandeza por $X$, seu valor verdadeiro por $\\mu$ e os valores observados por $l_i$, podemos escrever:\n",
    "\n",
    "Erro Verdadeiro: $\\varepsilon_i = l_i-\\mu$                                \n",
    "Erro Aparente: $e_i = l_i-X$\\\n",
    "Resíduo: $v_i = X-li$  "
   ]
  },
  {
   "cell_type": "markdown",
   "id": "c8897b4c-aabe-4656-826d-8c2f954e8ec9",
   "metadata": {
    "heading_collapsed": "true",
    "tags": [],
    "toc-hr-collapsed": true
   },
   "source": [
    "# <span style='color:DarkOrange'>**4 PRINCÍPIOS E TÉCNICAS DE PROPAGAÇÃO**</span>"
   ]
  },
  {
   "cell_type": "markdown",
   "id": "5708adb3-d48b-4dad-825a-2963b440d105",
   "metadata": {
    "tags": []
   },
   "source": [
    "## 4.1 Propagação de variância-covariância"
   ]
  },
  {
   "cell_type": "markdown",
   "id": "8973dffe-1cff-4a51-a284-3df42059a3e2",
   "metadata": {},
   "source": [
    "Através da propagação pode-se obter as características estocásticas das variáveis funcionalmente dependentes, a partir das características das variáveis independentes e da relação funcional entre os dois conjuntos de variáveis."
   ]
  },
  {
   "cell_type": "markdown",
   "id": "582a3d6b-2dee-4279-b5a2-7f547fe1e9e9",
   "metadata": {},
   "source": [
    "### *4.1.1 Propagação para funções lineares*"
   ]
  },
  {
   "cell_type": "markdown",
   "id": "39475bd9-d9ab-4fd1-bd47-b68f7033d4b4",
   "metadata": {
    "tags": []
   },
   "source": [
    "Considere os vetores aleatórios $X$ e $Y$ ligados por um modelo linear $\\eqref{eq:Eq5}$:\n",
    "\n",
    "\\begin{equation}\n",
    "Y=GX+C \n",
    "\\label{eq:Eq5} \\tag{5}\n",
    "\\end{equation}\n",
    "\n",
    "Em que: ${{_m^\\ }Y}_1$ é o vetor das quantidades calculadas, ${{_m^\\ }G}_n$ é a matriz dos coeficientes, ${{_n^\\ }X}_1$ é o vetor das observações (com média $µx$ e MVC $\\Sigma_X$) e ${{_m^\\ }C}_1$ é o vetor de constantes.\n",
    "\n",
    "A expressão para propagação de variância-covariância é dada por $\\eqref{eq:Eq6}$:\n",
    "\n",
    "\\begin{equation}\n",
    "\\Sigma_Y=G\\Sigma_XG^T\n",
    "\\label{eq:Eq6} \\tag{6}\n",
    "\\end{equation}"
   ]
  },
  {
   "cell_type": "markdown",
   "id": "123301e2-1c9c-4bab-ac8a-f1db531457a6",
   "metadata": {},
   "source": [
    "### *4.1.2 Propagação para funções não-lineares* "
   ]
  },
  {
   "cell_type": "markdown",
   "id": "5d3ee904-6ca1-44ee-bea3-5ac37e0ff22a",
   "metadata": {},
   "source": [
    "Sistemas não-lineares devem ser linearizados previamente. Tal procedimento é feito desenvolvendo a função em série de Taylor, em que se desprezam os termos superiores à primeira ordem. A expressão para a propagação de variância-covariância para funções não-lineares é dada por $\\eqref{eq:Eq7}$:\n",
    "\n",
    "\\begin{equation}\n",
    "\\Sigma_Y=D\\Sigma_XD^T\n",
    "\\label{eq:Eq7} \\tag{7}\n",
    "\\end{equation}\n",
    "\n",
    "Em que $D$ é a matriz Jacobiana:\n",
    "\n",
    "\\begin{equation}\n",
    "D = \\begin{bmatrix}\\frac{\\partial y_1}{\\partial x_1}&\\frac{\\partial y_1}{\\partial x_2}&\\cdots&\\frac{\\partial y_1}{\\partial x_n}\\\\\\frac{\\partial y_2}{\\partial x_1}&\\frac{\\partial y_2}{\\partial x_2}&\\cdots&\\frac{\\partial y_2}{\\partial x_n}\\\\\\cdots&\\cdots&\\cdots&\\cdots\\\\\\frac{\\partial y_m}{\\partial x_1}&\\frac{\\partial y_m}{\\partial x_2}&\\cdots&\\frac{\\partial y_m}{\\partial x_n}\\\\\\end{bmatrix}\n",
    "\\label{eq:Eq8} \\tag{8}\n",
    "\\end{equation}"
   ]
  },
  {
   "cell_type": "markdown",
   "id": "5e0bf849-cb9a-4251-9d61-5fb35d3ecc06",
   "metadata": {
    "heading_collapsed": "true",
    "tags": [],
    "toc-hr-collapsed": true
   },
   "source": [
    "# <span style='color:DarkOrange'>**5 MÉTODO DOS MÍNIMOS QUADRADOS**</span>"
   ]
  },
  {
   "cell_type": "markdown",
   "id": "f6b95db2-421b-4cd8-8715-12d5c1ff8038",
   "metadata": {},
   "source": [
    "## 5.1 Introdução"
   ]
  },
  {
   "cell_type": "markdown",
   "id": "24615eb2-4242-4c7e-8337-898790bd76bc",
   "metadata": {},
   "source": [
    "Em geral, com o MMQ estima-se as variáveis incógnitas $X$ e suas precisões $\\Sigma_X$, a partir de observações $L_b$ com precisões $\\Sigma_{L_b}$."
   ]
  },
  {
   "cell_type": "markdown",
   "id": "79e5a44c-78f6-4345-bcd2-e9999327b6e6",
   "metadata": {},
   "source": [
    "## 5.2 Princípio do Método dos Mínimos Quadrados"
   ]
  },
  {
   "cell_type": "markdown",
   "id": "703e95a4-611d-42da-a43e-70ffe2a52983",
   "metadata": {},
   "source": [
    "Observações redundantes normalmente não são compatíveis com o modelo funcional. Portanto, em um sistema de equações (lineares ou linearizadas) redundantes e inconsistentes as soluções para subconjuntos de variáveis a partir de diferentes subsistemas seriam distintas, isto é, uma solução única não seria possível.\n",
    "\n",
    "Após a aplicação do MMQ o conjunto original de observações $L_b$, composto de observações redundantes e inconsistentes com o modelo, é substituído por um outro conjunto de estimativas $L_a$, que satisfaz o modelo. A diferença entre os conjuntos é o vetor dos resíduos $V$ $\\eqref{eq:Eq9}$:\n",
    "\n",
    "\\begin{equation}\n",
    "V=L_a-L_b\n",
    "\\label{eq:Eq9} \\tag{9}\n",
    "\\end{equation}\n",
    "                                                                                Aceita-se como melhor estimativa de $L_a$ o valor que torna mínima a soma dos quadrados dos resíduos, portanto:\n",
    "\n",
    "\\begin{equation}\n",
    "\\phi=V^TPV=mínimo\n",
    "\\label{eq:Eq10} \\tag{10}\n",
    "\\end{equation}\n",
    "\n",
    "A equação $\\eqref{eq:Eq10}$ é conhecida como forma quadrática fundamental do MMQ. É importante notar que a aplicação do princípio do MMQ não requer conhecimento à priori da distribuição de probabilidade associada às observações.\n"
   ]
  },
  {
   "cell_type": "markdown",
   "id": "b1f66ef2-3130-43bc-88f4-4173f4abad00",
   "metadata": {
    "heading_collapsed": "true",
    "tags": [],
    "toc-hr-collapsed": true
   },
   "source": [
    "# <span style='color:DarkOrange'>**6 AJUSTAMENTO DE OBSERVAÇÕES DIRETAS**</span>"
   ]
  },
  {
   "cell_type": "markdown",
   "id": "fb296b8d-4144-47b5-add0-7dccdd335edc",
   "metadata": {},
   "source": [
    "## 6.1 Ajustamento de observações diretas de mesma precisão"
   ]
  },
  {
   "cell_type": "markdown",
   "id": "4a7c4d1d-8d77-4ced-982e-1a4dcabd7cb6",
   "metadata": {},
   "source": [
    "### *6.1.1 Estimativa do valor ajustado - Média Aritmética Simples*"
   ]
  },
  {
   "cell_type": "markdown",
   "id": "b9e38e5b-b434-4b4b-8a9f-e12320166732",
   "metadata": {
    "tags": []
   },
   "source": [
    "Uma vez eliminados os erros grosseiros e as influências sistemáticas de um conjunto de n observações $\\left\\{l_1,l_2,l_3,...,l_n\\right\\}$ e designando o valor ajustado a ser calculado por $\\widetilde{x}$, temos que:\n",
    "\n",
    "\\begin{equation}\n",
    "\\bar{x}=\\frac{\\sum_{i=1}^{n}{p_il_i}}{n}\n",
    "\\label{eq:Eq11} \\tag{11}\n",
    "\\end{equation}\n",
    "\n"
   ]
  },
  {
   "cell_type": "markdown",
   "id": "389f96b8-86f3-48f4-8c70-24fb95462c20",
   "metadata": {},
   "source": [
    "### *6.1.2 Desvio padrão ou erro médio quadrático de uma observação isolada*"
   ]
  },
  {
   "cell_type": "markdown",
   "id": "23cff683-c02e-4c80-8a9d-dd4cd51f64b0",
   "metadata": {
    "tags": []
   },
   "source": [
    "O erro médio quadrático de uma observação isolada foi proposto por Gauss, que o definiu como a raiz quadrada da média dos quadrados dos erros verdadeiros. Na prática, como os erros verdadeiros são desconhecidos, adota-se o valor de resíduo $v=x-l_i$:\n",
    "\n",
    "\\begin{equation}\n",
    "\\hat{\\sigma}=\\sqrt{\\frac{\\sum_{i=1}^{n}v_i^2}{n-1}}\n",
    "\\label{eq:Eq12} \\tag{12}\n",
    "\\end{equation}"
   ]
  },
  {
   "cell_type": "markdown",
   "id": "45ed18d6-1a67-4913-9dee-5da742f0013c",
   "metadata": {},
   "source": [
    "### *6.1.3 Desvio padrão ou erro médio quadrático do valor ajustado*"
   ]
  },
  {
   "cell_type": "markdown",
   "id": "cbb8fc21-b5e2-49bd-b6b8-a635cdb59413",
   "metadata": {},
   "source": [
    "Nas aplicações, após o ajustamento, as observações são substituídas pela média aritmética simples. Portanto, interessa a precisão dessa média:\n",
    "\n",
    "\\begin{equation}\n",
    "\\hat{\\sigma_\\bar{x}}=\\sqrt{\\frac{\\sum_{i=1}^{n}v_i^2}{n(n-1)}}\n",
    "\\label{eq:Eq13} \\tag{13}\n",
    "\\end{equation}"
   ]
  },
  {
   "cell_type": "markdown",
   "id": "7ff6a177-f352-4fec-b5f2-25035e42c923",
   "metadata": {
    "tags": [],
    "toc-hr-collapsed": true
   },
   "source": [
    "## 6.2 Ajustamento de observações diretas de desigual precisão"
   ]
  },
  {
   "cell_type": "markdown",
   "id": "ce14f30e-6446-4bd9-90bd-7f3f21ec491b",
   "metadata": {},
   "source": [
    "### *6.2.1 Estimativa do valor ajustado - Média Aritmética Ponderada*"
   ]
  },
  {
   "cell_type": "markdown",
   "id": "f4305488-123d-4a5c-94b1-d00e77902426",
   "metadata": {
    "tags": []
   },
   "source": [
    "Neste caso a diferença de precisão entre as observações será caracterizada pelos seus respectivos pesos. Os pesos das observações são inversamente proporcionais às respectivas variâncias, ou seja, atribui-se uma maior confiabilidade às observações de menor variância. \n",
    "\n",
    "\\begin{equation}\n",
    "\\widetilde{x}=\\frac{\\sum_{i=1}^{n}{p_il_i}}{\\sum_{i=1}^{n}p_i}\n",
    "\\label{eq:Eq14} \\tag{14}\n",
    "\\end{equation}"
   ]
  },
  {
   "cell_type": "markdown",
   "id": "c1348095-4786-4bbb-9221-6390395f3b9f",
   "metadata": {},
   "source": [
    "### *6.2.2 Desvio padrão ou erro médio quadrático de uma observação isolada*"
   ]
  },
  {
   "cell_type": "markdown",
   "id": "1f524e81-31e6-4747-9b0d-7e26d0e807b9",
   "metadata": {},
   "source": [
    "As observações, após a homogeneização pela ponderação, passam a fornecer o mesmo grau de confiança, assim, terão a mesma variância, que corresponde ao fator de variância a posteriori:\n",
    "\n",
    "\\begin{equation}\n",
    "\\hat{\\sigma}=\\sqrt{\\frac{\\sum_{i=1}^{n}{p_iv_i^2}}{n-1}}\n",
    "\\label{eq:Eq15} \\tag{15}\n",
    "\\end{equation}"
   ]
  },
  {
   "cell_type": "markdown",
   "id": "53f990d2-3b07-45c7-ac6b-a6b601e371c7",
   "metadata": {},
   "source": [
    "### *6.2.3 Erro médio quadrático do valor ajustado*"
   ]
  },
  {
   "cell_type": "markdown",
   "id": "ce173fcc-10e2-4bc1-9a0f-714bf9d56c58",
   "metadata": {},
   "source": [
    "O desvio padrão ou erro médio quadrático da média aritmética ponderada é dado por:\n",
    "\n",
    "\\begin{equation}\n",
    "{\\hat{\\sigma}}_{\\widetilde{x}}^2=\\sqrt{\\frac{\\sum_{i=1}^{n}{p_iv_i^2}}{\\sum_{i=1}^{n}{p_i(n-1)}}}\n",
    "\\label{eq:Eq16} \\tag{16}\n",
    "\\end{equation}"
   ]
  },
  {
   "cell_type": "markdown",
   "id": "e04a7b17-3b36-47d5-93e0-513be5cc47b2",
   "metadata": {
    "heading_collapsed": "true",
    "tags": []
   },
   "source": [
    "# <span style='color:DarkOrange'> **7 MÉTODO PARAMÉTRICO** </span>"
   ]
  },
  {
   "cell_type": "markdown",
   "id": "f6ede346-af7e-4460-8467-30723bdda510",
   "metadata": {},
   "source": [
    "## 7.1 Introdução"
   ]
  },
  {
   "cell_type": "markdown",
   "id": "b22cb1d9-dcf7-426d-9bc7-0285b5e8915d",
   "metadata": {},
   "source": [
    "O método paramétrico é também conhecido como ajustamento de observações indiretas ou método das equações de observação. Neste tipo de ajustamento cada observação proporciona uma equação, portanto, para $n$ observações haverá $n$ equações. Estas observações serão escritas em função dos parâmetros $u$ envolvidos."
   ]
  },
  {
   "cell_type": "markdown",
   "id": "9a751dfd-eef3-44e8-b10e-d418d459e456",
   "metadata": {},
   "source": [
    "## 7.2 Ajustamento pelo método paramétrico"
   ]
  },
  {
   "cell_type": "markdown",
   "id": "ae603c8d-7a61-4819-a66f-b4012327fb6a",
   "metadata": {},
   "source": [
    "O modelo matemático do método paramétrico é dado por:\n",
    "\n",
    "\\begin{equation}\n",
    "L_a=F(X_a) \n",
    "\\label{eq:Eq17} \\tag{17}\n",
    "\\end{equation}\n",
    "\n",
    "Em que $L_a$ é o vetor das observações ajustadas ($n \\times 1$) e $X_a$ é o vetor dos parâmetros ajustados ($u \\times 1$)."
   ]
  },
  {
   "cell_type": "markdown",
   "id": "de488457-04ea-4df5-af86-9aef2d7d594b",
   "metadata": {},
   "source": [
    "### *7.2.1 Linearização do modelo*"
   ]
  },
  {
   "cell_type": "markdown",
   "id": "e5dc1955-8e42-49a8-9f30-7bcb6c9c630f",
   "metadata": {},
   "source": [
    "No método paramétrico, em geral, $F(X_a)$ não é linear. No processo de linearização é empregado um valor aproximado ($X_0$) para os parâmetros incógnitos (o que acarreta a necessidade de iterações) como ponto de expansão da função $F(X_a)$ na série de Taylor.\n",
    "\n",
    "Linearizando a equação (17) com a série de Taylor, temos:\n",
    "\n",
    "\\begin{equation}\n",
    "L_a=F(X_0)+\\left.\\frac{\\partial F}{\\partial X_a}\\right|_{X_0}X\n",
    "\\label{eq:Eq18} \\tag{18}\n",
    "\\end{equation}\n",
    "\n",
    "Considerando $L_a=L_b+V$ podemos escrever:\n",
    "\n",
    "\\begin{equation}\n",
    "L_b+V=F(X_0)+\\left.\\frac{\\partial F}{\\partial X_a}\\right|_{X_0}X\n",
    "\\label{eq:Eq19} \\tag{19}\n",
    "\\end{equation}\n",
    "\n",
    "Designando a função dos parâmetros aproximados por:\n",
    "\n",
    "\\begin{equation}\n",
    "L_0=F(X_0)\n",
    "\\label{eq:Eq20} \\tag{20}\n",
    "\\end{equation}\n",
    "\n",
    "E agrupando a matriz das derivadas parciais em A (matriz dos coeficientes):\n",
    "\n",
    "\\begin{equation}\n",
    "A=\\left.\\frac{\\partial F}{\\partial X_a}\\right|_{X_0}\n",
    "\\label{eq:Eq21} \\tag{21}\n",
    "\\end{equation}\n",
    "\n",
    "Podemos escrever:\n",
    "\n",
    "\\begin{equation}\n",
    "L_b+V=L_0+AX\\Rightarrow V=AX+L_0-L_b\n",
    "\\label{eq:Eq22} \\tag{22}\n",
    "\\end{equation}\n",
    "\n",
    "Escrevendo $L=L_0-L_b$ obtemos o modelo matemático linearizado do método paramétrico: \n",
    "\n",
    "\\begin{equation}\n",
    "{{_n^\\ }V}_1=_nA_u{{_u^\\ }X}_1+{{_n^\\ }L}_1\n",
    "\\label{eq:Eq23} \\tag{23}\n",
    "\\end{equation}\n",
    "\n",
    "Na equação (23) $X=X_a-X_0$. Se o modelo for linear poderemos escrever:\n",
    "\n",
    "\\begin{equation}\n",
    "V=AX_a+L\n",
    "\\label{eq:Eq24} \\tag{24}\n",
    "\\end{equation}\n",
    "\n",
    "E se, além disso, $L_0=0$, então poderemos escrever:\n",
    "\n",
    "\\begin{equation}\n",
    "V=AX_a-L_b\n",
    "\\label{eq:Eq25} \\tag{25}\n",
    "\\end{equation}\n",
    "\n",
    "\n"
   ]
  },
  {
   "cell_type": "markdown",
   "id": "7a5cfa09-c05f-44db-a6c9-1f7db5376cbc",
   "metadata": {},
   "source": [
    "### *7.2.1 Equações Normais*"
   ]
  },
  {
   "cell_type": "markdown",
   "id": "a4a23a3e-cd5f-4725-8ce6-ee6bf484f63a",
   "metadata": {},
   "source": [
    "O modelo apresentado na equação anterior apresenta número de equações maior que número de incógnitas. Recorre-se então ao MMQ para obtenção da solução única:\n",
    "\n",
    "\\begin{equation}\n",
    "N=A^TPA\n",
    "\\label{eq:Eq26} \\tag{26}\n",
    "\\end{equation}\n",
    "\n",
    "\\begin{equation}\n",
    "U=A^TPL\n",
    "\\label{eq:Eq27} \\tag{27}\n",
    "\\end{equation}\n",
    "\n",
    "\\begin{equation}\n",
    "U=A^TPL\n",
    "\\label{eq:Eq28} \\tag{28}\n",
    "\\end{equation}\n",
    "\n",
    "\\begin{equation}\n",
    "X=-N^{-1}U\n",
    "\\label{eq:Eq29} \\tag{29}\n",
    "\\end{equation}\n",
    "\n",
    "As componentes do vetor $X$ convertem os parâmetros aproximados em ajustados:\n",
    "\n",
    "\\begin{equation}\n",
    "X_a=X_0+X\n",
    "\\label{eq:Eq30} \\tag{30}\n",
    "\\end{equation}\n",
    "\n",
    "Em que $X_a$ é o vetor dos parâmetros ajustados ($u \\times 1$), $X_0$ é o vetor dos parâmetros aproximados ($u \\times 1$) e $X$ é o vetor das correções dos parâmetros ($u \\times 1$)."
   ]
  },
  {
   "cell_type": "markdown",
   "id": "afbb9f23-f912-424a-a21c-3e8444d4fb7b",
   "metadata": {
    "tags": []
   },
   "source": [
    "## 7.3 Estimativa da precisão"
   ]
  },
  {
   "cell_type": "markdown",
   "id": "f8aca92e-9da6-44dd-a6d2-0d30d7c5bbca",
   "metadata": {},
   "source": [
    "### *7.3.1 Matriz variância-covariância dos parâmetros ajustados*"
   ]
  },
  {
   "cell_type": "markdown",
   "id": "33fc2073-e332-4560-a860-5cfb5b6e196f",
   "metadata": {},
   "source": [
    "A estimativa da precisão dos parâmetros ajustados é dada pela seguinte expressão:\n",
    "\n",
    "\\begin{equation}\n",
    "\\Sigma_{X_a}=\\sigma_0^2N^{-1}\n",
    "\\label{eq:Eq31} \\tag{31}\n",
    "\\end{equation}\n",
    "\n",
    "E após o ajustamento podemos calcular a variância a posteriori:\n",
    "\n",
    "\\begin{equation}\n",
    "{\\hat{\\sigma}}_0^2=\\frac{V^TPV}{n-u}\n",
    "\\label{eq:Eq32} \\tag{32}\n",
    "\\end{equation}\n",
    "\n",
    "Se o ajustamento for aceito no teste estatístico, este valor representa uma estimativa não tendenciosa do fator de variância a priori, arbitrado no início do ajustamento. Assim, pode-se assumir que:\n",
    "\n",
    "\\begin{equation}\n",
    "\\Sigma_{X_a}={\\hat{\\sigma}}_0^2N^{-1}\n",
    "\\label{eq:Eq33} \\tag{33}\n",
    "\\end{equation}"
   ]
  },
  {
   "cell_type": "markdown",
   "id": "caf13e2b-1293-4cf0-9972-e16495696859",
   "metadata": {},
   "source": [
    "### *7.3.2 Observações ajustadas e MVC das observações ajustadas*"
   ]
  },
  {
   "cell_type": "markdown",
   "id": "33be262e-0ef7-4adc-9c98-bdbbd440a3d5",
   "metadata": {},
   "source": [
    "A partir do vetor dos resíduos $V=AX+L$ e dos parâmetros ajustados $L_a=L_b+V$ e utilizando a lei de propagação de variância-covariância podemos calcular a MVC das observações ajustadas:\n",
    "\n",
    "\\begin{equation}\n",
    "\\Sigma_{L_a}={\\hat{\\sigma}}_0^2AN^{-1}A^T\n",
    "\\label{eq:Eq34} \\tag{34}\n",
    "\\end{equation}"
   ]
  },
  {
   "cell_type": "markdown",
   "id": "5eb36899-4a8a-4a1c-8d43-2337290bb372",
   "metadata": {
    "tags": []
   },
   "source": [
    "### *7.3.3 Resíduos e MVC dos resíduos*"
   ]
  },
  {
   "cell_type": "markdown",
   "id": "ad553315-fa48-48d9-9f39-9eb041e77b69",
   "metadata": {},
   "source": [
    "A partir do vetor dos resíduos pode-se estimar sua MVC como segue:\n",
    "\n",
    "\\begin{equation}\n",
    "\\Sigma_V={\\hat{\\sigma}}_0^2(P^{-1}-AN^{-1}A^T)\n",
    "\\label{eq:Eq35} \\tag{35}\n",
    "\\end{equation}"
   ]
  },
  {
   "cell_type": "markdown",
   "id": "ccb85875-af21-43d0-b7dd-234426108121",
   "metadata": {
    "heading_collapsed": "true",
    "tags": []
   },
   "source": [
    "# <span style='color:DarkOrange'> **8 ANÁLISE DO AJUSTAMENTO** </span>"
   ]
  },
  {
   "cell_type": "markdown",
   "id": "46897c66-6f9c-4d5b-9b4a-e20428e5788e",
   "metadata": {},
   "source": [
    "Com os valores de $\\sigma_0^2$ e ${\\hat{\\sigma}}_0^2$ pode-se fazer uma análise estatística do ajustamento através da estatística Qui-quadrado $\\chi^2$. No teste a hipótese básica é:\n",
    "\n",
    "\\begin{equation}\n",
    "H_0:\\sigma_0^2={\\hat{\\sigma}}_0^2\n",
    "\\label{eq:Eq36} \\tag{36}\n",
    "\\end{equation}\n",
    "\n",
    "Contra a hipótese alternativa:\n",
    "\n",
    "\\begin{equation}\n",
    "H_1:\\sigma_0^2\\neq{\\hat{\\sigma}}_0^2\n",
    "\\label{eq:Eq37} \\tag{37}\n",
    "\\end{equation}\n",
    "\n",
    "\\begin{equation}\n",
    "H_1:\\sigma_0^2>{\\hat{\\sigma}}_0^2\n",
    "\\label{eq:Eq38} \\tag{38}\n",
    "\\end{equation}\n",
    "\n",
    "Para a avaliação das hipóteses deve-se comparar o valor calculado:\n",
    "\n",
    "\\begin{equation}\n",
    "\\chi_c^2=\\frac{{\\hat{\\sigma}}_0^2}{\\sigma_0^2}(n-u)=\\frac{V^TPV}{\\sigma_0^2}\n",
    "\\label{eq:Eq39} \\tag{39}\n",
    "\\end{equation}\n",
    "\n",
    "Com os valores teóricos da tabela $\\chi^2$ com $v = n - u$ graus de liberdade. \n",
    "\n",
    "A hipótese básica não é rejeitada, ao nível de significância $\\alpha$, num teste bilateral, se:\n",
    "\n",
    "\\begin{equation}\n",
    "\\chi_c^2<\\chi_{v,1-\\alpha/2}^2\\  ou \\chi_c^2>\\chi_{v,\\alpha/2}^2\n",
    "\\label{eq:Eq40} \\tag{40}\n",
    "\\end{equation}\n",
    "\n",
    "No caso do teste unilateral, a hipótese básica não é rejeitada se:\n",
    "\n",
    "\\begin{equation}\n",
    "\\chi_c^2<\\chi_{v,1-\\alpha}^2\n",
    "\\label{eq:Eq41} \\tag{41}\n",
    "\\end{equation}\n"
   ]
  },
  {
   "cell_type": "markdown",
   "id": "353c5b2d-2fa6-4a04-bd71-df38ea841bb8",
   "metadata": {
    "heading_collapsed": "true",
    "tags": []
   },
   "source": [
    "# <span style='color:DarkOrange'> **9 INJUNÇÕES** </span>"
   ]
  },
  {
   "cell_type": "markdown",
   "id": "1e52506f-2d12-441f-a267-0ae7ca6d58af",
   "metadata": {
    "tags": []
   },
   "source": [
    "A injunção no ajustamento é uma restrição imposta em alguns dos parâmetros envolvidos no processo. A equação de injunção é definida como sendo aquela que será constituída apenas de parâmetros. Sua representação é dada por:\n",
    "\n",
    "\\begin{equation}\n",
    "G(X_a)=0\n",
    "\\label{eq:Eq42} \\tag{42}\n",
    "\\end{equation}\n",
    "\n",
    "Teremos uma injunção absoluta quando um parâmetro for mantido fixo no ajustamento. Neste caso, sua variância é nula. Assim, ao montar a matriz $A$, não é necessário derivar em relação a tal parâmetro, já que seu peso tenderá ao infinito. Uma alternativa é utilizar uma injunção relativa, também conhecida como injunção com peso. Neste caso, os parâmetros podem ser tratados como observações adicionais ou pseudo-observações.\n"
   ]
  },
  {
   "cell_type": "markdown",
   "id": "1f8fee4b-b657-4de3-a6eb-2f1c0f3d6076",
   "metadata": {
    "heading_collapsed": "true",
    "tags": []
   },
   "source": [
    "# <div align=\"center\"> <span style='color:DarkOrange'> **EXERCÍCIOS** </span> </div>"
   ]
  },
  {
   "cell_type": "markdown",
   "id": "c06a3d91-4584-4a31-a390-bb546ecc23f3",
   "metadata": {
    "heading_collapsed": "true",
    "tags": [],
    "toc-hr-collapsed": true
   },
   "source": [
    "## <span style='color:DarkOrange'> **A. Propagação de Variância e Covariância** </span>"
   ]
  },
  {
   "cell_type": "markdown",
   "id": "80b34109-967e-4a0e-b569-45cd2f803d0d",
   "metadata": {
    "heading_collapsed": "true",
    "tags": []
   },
   "source": [
    "### Exercício 1"
   ]
  },
  {
   "cell_type": "markdown",
   "id": "3a8d7ed7-a3fb-40b8-976d-66c2eb8c1581",
   "metadata": {},
   "source": [
    "Calcular a MVC (Matriz de Variância-Covariância) de Y, dados:\n",
    "\n",
    "$y_1=3x_1+5x_2+3$\n",
    "\n",
    "$y_2=6x_1+7x_2+4$\n",
    "\n",
    "$\\sigma_{x1}^2=2$\n",
    "\n",
    "$\\sigma_{x2}^2=2$\n",
    "\n",
    "Solução:\n",
    "\n",
    "${{_m^\\ }Y}_1={{_m^\\ }G}_n{{_n^\\ }X}_1+{{_m^\\ }C}_1$\n",
    "\n",
    "$\\Sigma_Y=G\\sum_XG^T$\n",
    "\n",
    "Em que:\n",
    "\n",
    "$Y$: Vetor das quantidades calculadas;\n",
    "\n",
    "$G$: Matriz de coeficientes;\n",
    "\n",
    "$X$: Vetor de observações;\n",
    "\n",
    "$C$: Vetor de constantes."
   ]
  },
  {
   "cell_type": "markdown",
   "id": "cd73427e-65a8-4d7f-ab70-7a67a6a71fef",
   "metadata": {
    "heading_collapsed": "true",
    "tags": []
   },
   "source": [
    "### Exercício 2"
   ]
  },
  {
   "cell_type": "markdown",
   "id": "04161425-0bd6-4ea4-b03f-9e4f23d7db5a",
   "metadata": {},
   "source": [
    "De um terreno retangular foram obtidas as seguintes medidas:\n",
    "\n",
    "$l_1=50,170\\ m\\pm0,01\\ m$\n",
    "\n",
    "$l_2=61,090\\ m\\pm0,02\\ m$\n",
    "\n",
    "Calcule o perímetro do terreno e seu desvio padrão."
   ]
  },
  {
   "cell_type": "markdown",
   "id": "613b1165-fbb9-4e8a-bc9c-26a36a475b54",
   "metadata": {
    "heading_collapsed": "true",
    "tags": []
   },
   "source": [
    "### Exercício 3"
   ]
  },
  {
   "cell_type": "markdown",
   "id": "65fe16d9-e63b-4bbd-bca3-bf79759d0ab9",
   "metadata": {},
   "source": [
    "Um terreno triangular teve seus lados medidos conforme os dados abaixo.\n",
    "\n",
    "$l_1=30\\ m\\pm0,02\\ m$\n",
    "\n",
    "$l_2=25\\ m\\pm0,03\\ m$\n",
    "\n",
    "$l_3=50\\ m\\pm0,01\\ m$\n",
    "\n",
    "Calcule o perímetro do terreno e seu desvio padrão."
   ]
  },
  {
   "cell_type": "markdown",
   "id": "e9caadc7-b4ec-40a1-b8b8-205669001b26",
   "metadata": {
    "heading_collapsed": "true",
    "tags": []
   },
   "source": [
    "### Exercício 4"
   ]
  },
  {
   "cell_type": "markdown",
   "id": "0d2a5b71-b1dd-4663-a250-a58a97fdd8ca",
   "metadata": {},
   "source": [
    "De um terreno retangular foram obtidas as seguintes medidas:\n",
    "\n",
    "$l_1=50,170\\ m\\pm0,01\\ m$\n",
    "\n",
    "$l_2=61,090\\ m\\pm0,02\\ m$\n",
    "\n",
    "Calcule a área do terreno e seu desvio padrão."
   ]
  },
  {
   "cell_type": "markdown",
   "id": "8899d66e-f6c3-44dc-80a3-74201df7422f",
   "metadata": {
    "heading_collapsed": "true",
    "tags": []
   },
   "source": [
    "### Exercício 5"
   ]
  },
  {
   "cell_type": "markdown",
   "id": "601f121f-ddb2-4ddd-8e67-d70f82448e69",
   "metadata": {},
   "source": [
    "Calcule o desvio padrão do perímetro e da área de um círculo de raio $R=10\\ m \\pm 0,030\\ m$.\n",
    "\n",
    "$P=2\\pi R$\n",
    "\n",
    "$A=\\pi R^2$"
   ]
  },
  {
   "cell_type": "markdown",
   "id": "02052e20-c37e-476a-a13f-bb2feacf3d15",
   "metadata": {
    "heading_collapsed": "true",
    "tags": []
   },
   "source": [
    "### Exercício 6"
   ]
  },
  {
   "cell_type": "markdown",
   "id": "deda8296-267d-4264-850c-bfa61c6b714c",
   "metadata": {},
   "source": [
    "A altitude de um ponto $B$ foi determinada através de nivelamento trigonométrico, a partir do ponto $A$, de altitude conhecida e igual a $H_A=148,32\\ m\\ \\pm 0,15\\ m$. A distância horizontal $AB$ observada é representada por $S$, a altura do instrumento por $h_i$, altura do sinal por $h_0$, e a distância zenital por $z$, com os seguintes valores:\n",
    "\n",
    "$S=1.000,00\\ m\\ \\pm 0,10\\ m$\n",
    "\n",
    "$h_i=1,40\\ m\\ \\pm 0,01\\ m$\n",
    "\n",
    "$h_0=2,00\\ m\\ \\pm 0,01\\ m$\n",
    "\n",
    "$z=89° 42' 13\" \\pm 20\"$\n",
    "\n",
    "Calcular a altitude:\n",
    "\n",
    "$H_B=H_A+h_i-h_0+S\\times cotg(z) $\n",
    "\n",
    "e o desvio padrão do ponto $B$.\n"
   ]
  },
  {
   "cell_type": "markdown",
   "id": "357e95b9-0552-4690-a49e-3a4baef9daaf",
   "metadata": {
    "heading_collapsed": "true",
    "tags": [],
    "toc-hr-collapsed": true
   },
   "source": [
    "## <span style='color:DarkOrange'> **B. Ajustamento de Observações Diretas** </span>"
   ]
  },
  {
   "cell_type": "markdown",
   "id": "5731bc5f-921d-441e-ba11-caa3cad18a9f",
   "metadata": {
    "heading_collapsed": "true",
    "tags": []
   },
   "source": [
    "### Exercício 1"
   ]
  },
  {
   "cell_type": "markdown",
   "id": "98610b37-14a7-4c39-b4ff-738605de2334",
   "metadata": {},
   "source": [
    "Um ângulo foi medido 10 vezes, com o resultado mostrado na segunda coluna do quadro que segue:"
   ]
  },
  {
   "cell_type": "markdown",
   "id": "bfa2befb-a970-4dc0-b4a3-1717ae3c06ad",
   "metadata": {},
   "source": [
    "<img style=\"float: left;\" src=\"tab9.png\" width=\"30%\" >"
   ]
  },
  {
   "cell_type": "markdown",
   "id": "2b16db3d-15fa-4c7b-8887-c4a0d0c78b0c",
   "metadata": {},
   "source": [
    "Determinar: média, erro médio quadrático de uma observação isolada, erro médio quadrático da média, intervalo de confiança para a média e intervalo de confiança para a variância. "
   ]
  },
  {
   "cell_type": "markdown",
   "id": "22ba54f3-3d53-42be-b661-42f7c40ca82c",
   "metadata": {
    "heading_collapsed": "true",
    "tags": []
   },
   "source": [
    "### Exercício 2"
   ]
  },
  {
   "cell_type": "markdown",
   "id": "7029e853-2cff-4af3-8cbf-6e2b54d4801b",
   "metadata": {},
   "source": [
    "Um ângulo foi medido 4 vezes, com o resultado mostrado na segunda coluna do quadro que segue:"
   ]
  },
  {
   "cell_type": "markdown",
   "id": "214dfee5-b51b-4bf5-8a4e-d1dc06695611",
   "metadata": {},
   "source": [
    "<img style=\"float: left;\" src=\"tab10.png\" width=\"50%\" >"
   ]
  },
  {
   "cell_type": "markdown",
   "id": "34e5270e-c6e4-4be7-9f52-7e521719a327",
   "metadata": {},
   "source": [
    "Adotar variância a priori igual a 3 e determinar: média, erro médio quadrático de uma observação isolada, erro médio quadrático da média."
   ]
  },
  {
   "cell_type": "markdown",
   "id": "fdb26b7b-50b3-4976-bfc4-1195862f304d",
   "metadata": {
    "heading_collapsed": "true",
    "tags": [],
    "toc-hr-collapsed": true
   },
   "source": [
    "## <span style='color:DarkOrange'> **C. Redes de Nivelamento** </span>"
   ]
  },
  {
   "cell_type": "markdown",
   "id": "82527f11-60fc-4b54-9e3f-b001d40ef907",
   "metadata": {
    "heading_collapsed": "true",
    "tags": []
   },
   "source": [
    "### Exercício 1"
   ]
  },
  {
   "cell_type": "markdown",
   "id": "50577428-659e-48ca-95fa-d8bbacfef69e",
   "metadata": {},
   "source": [
    "Utilizando-se do ajustamento paramétrico, estimar as altitudes dos pontos $B$, $C$, $D$ e as observações ajustadas, bem como as precisões das altitudes calculadas e das observações ajustadas. Os pontos $A$ e $E$ têm altitudes conhecidas e dadas respectivamente por: $H_A=200\\ m$ e $H_E=320\\ m$.Os desníveis são considerados de mesma precisão.  "
   ]
  },
  {
   "cell_type": "markdown",
   "id": "70fcb36c-24a3-4107-9ed8-d948383ac685",
   "metadata": {},
   "source": [
    "<img style=\"float: left;\" src=\"tab11.png\" width=\"25%\" >"
   ]
  },
  {
   "cell_type": "markdown",
   "id": "142c2009-5306-4d01-aa47-f777f96edb9a",
   "metadata": {},
   "source": [
    "<img style=\"float: left;\" src=\"Ex10.png\" width=\"30%\" >"
   ]
  },
  {
   "cell_type": "markdown",
   "id": "c11f3029-ea7c-4410-b961-d997b83b6ea0",
   "metadata": {
    "heading_collapsed": "true",
    "tags": []
   },
   "source": [
    "### Exercício 2"
   ]
  },
  {
   "cell_type": "markdown",
   "id": "7cffd3f7-fbc2-41e2-9b4b-b063bb1565f0",
   "metadata": {},
   "source": [
    "Uma linha de nivelamento foi feita ligando dois pontos $A$ e $D$ de altitude conhecida, conforme a figura. As altitudes $A$ e $D$ são respectivamente 842,00 m e 712,05 m."
   ]
  },
  {
   "cell_type": "markdown",
   "id": "b41b3e18-8907-4326-9b87-86dddefbbfc3",
   "metadata": {},
   "source": [
    "<img style=\"float: left;\" src=\"tab12.png\" width=\"35%\" >"
   ]
  },
  {
   "cell_type": "markdown",
   "id": "290d90c0-3cfb-4432-95be-b88aa14186e0",
   "metadata": {},
   "source": [
    "<img style=\"float: left;\" src=\"Ex4.png\" width=\"30%\" >"
   ]
  },
  {
   "cell_type": "markdown",
   "id": "19e32ac0-9970-4cfb-b0e9-b2a113995540",
   "metadata": {},
   "source": [
    "As observações não são correlacionadas e as variâncias dadas por $\\sigma_i^2=4\\ {\\rm mm}^2\\times d_i$, em que a distância ($d$) é dada em km. Calcular as altitudes de $HB$ e $HC$  ajustadas, e as observações ajustadas bem como as MVCs envolvidas. "
   ]
  },
  {
   "cell_type": "markdown",
   "id": "d9ffc773-8378-44d7-baf0-13f97c8594c2",
   "metadata": {
    "heading_collapsed": "true",
    "tags": []
   },
   "source": [
    "### Exercício 3"
   ]
  },
  {
   "cell_type": "markdown",
   "id": "f721eaf0-d295-42e4-bd39-4a08d68c293e",
   "metadata": {},
   "source": [
    "Considere a seguinte rede de nivelamento abaixo. O ponto A possui altitude 0 (zero). A precisão do nivelamento foi de $2\\ mm\\times \\sqrt d$, sendo a distância $d$ dada em km.As observações coletadas da rede e demais informações encontram-se na tabela a seguir. "
   ]
  },
  {
   "cell_type": "markdown",
   "id": "52893dcb-d76c-49f9-bd99-5b9d60eaa202",
   "metadata": {},
   "source": [
    "<img style=\"float: left;\" src=\"tab13.png\" width=\"35%\" >"
   ]
  },
  {
   "cell_type": "markdown",
   "id": "1db1e22f-2cbc-4280-a3c0-e70b7dbf3545",
   "metadata": {},
   "source": [
    "<img style=\"float: left;\" src=\"Ex5.png\" width=\"30%\" >"
   ]
  },
  {
   "cell_type": "markdown",
   "id": "23b794f8-785a-4afd-a46b-2cf6bb99b592",
   "metadata": {},
   "source": [
    "Calcular: altitudes de $HB$, $HC$ e $HD$, MVC das altitudes, observações ajustadas e MVC das observações ajustadas e fazer o teste estatístico para um nível de confiança de 5%. "
   ]
  },
  {
   "cell_type": "markdown",
   "id": "5eb0ecd2-670c-4b7e-8e29-ad4aa204251a",
   "metadata": {
    "heading_collapsed": "true",
    "tags": [],
    "toc-hr-collapsed": true
   },
   "source": [
    "## <span style='color:DarkOrange'> **D. Coordenadas** </span>"
   ]
  },
  {
   "cell_type": "markdown",
   "id": "ab747d80-e1c4-4c2b-b4eb-0406953a9e1e",
   "metadata": {
    "heading_collapsed": "true",
    "tags": []
   },
   "source": [
    "### Exercício 1"
   ]
  },
  {
   "cell_type": "markdown",
   "id": "c48fcbec-ce1f-4505-bcc9-efc230220979",
   "metadata": {},
   "source": [
    "As coordenadas de três estações fixas $P1$, $P2$ e $P3$ e as distâncias $S1$, $S2$ e $S3$ medidas a partir destas estações para uma nova estação $P$, conforme a figura abaixo, são dadas como segue. "
   ]
  },
  {
   "cell_type": "markdown",
   "id": "ea7d1d08-4593-463d-819e-a94e3fd7fa01",
   "metadata": {},
   "source": [
    "<img style=\"float: left;\" src=\"tab7.png\" width=\"40%\" >"
   ]
  },
  {
   "cell_type": "markdown",
   "id": "8779ee9d-8260-4ef4-8763-d6c2e69648b9",
   "metadata": {},
   "source": [
    "<img style=\"float: left;\" src=\"Ex6.png\" width=\"30%\" >"
   ]
  },
  {
   "cell_type": "markdown",
   "id": "4b086262-5a27-4d90-91ad-b8f9abd58a75",
   "metadata": {},
   "source": [
    "As coordenadas aproximadas do ponto $P$ são $X_0=33.345,2\\ m$ e $Y_0=690.143,7\\ m$. Pede-se:\n",
    "\n",
    "a) Estimar as coordenadas do ponto $P$ e as observações ajustadas bem como suas precisões; e\n",
    "\n",
    "b) Realizar iterações até que |X|<0,01 m."
   ]
  },
  {
   "cell_type": "markdown",
   "id": "7bb7de9a-ab6c-4134-a6ef-3f1e606650a7",
   "metadata": {
    "heading_collapsed": "true",
    "tags": []
   },
   "source": [
    "### Exercício 2"
   ]
  },
  {
   "cell_type": "markdown",
   "id": "999cad16-ac19-4190-8473-ea138b6fd247",
   "metadata": {},
   "source": [
    "As coordenadas de quatro estações fixas $P1$, $P2$, $P3$ e $P4$ e as distâncias $S1$, $S2$, $S3$ e $S4$ medidas a partir destas estações para uma nova estação $P$, conforme a figura abaixo, são dadas como segue:"
   ]
  },
  {
   "cell_type": "markdown",
   "id": "fc898441-0079-4877-8e57-9236fad87566",
   "metadata": {},
   "source": [
    "<img style=\"float: left;\" src=\"tab1.png\" width=\"50%\" >"
   ]
  },
  {
   "cell_type": "markdown",
   "id": "ccb36f60-0be7-4bfc-9d57-2bcc08b8bef0",
   "metadata": {},
   "source": [
    "<img style=\"float: left;\" src=\"Ex7.png\" width=\"30%\" >"
   ]
  },
  {
   "cell_type": "markdown",
   "id": "f9b3202a-0059-4966-8e8e-d27d92a95e0f",
   "metadata": {},
   "source": [
    "As coordenadas aproximadas do ponto $P$ são $E_0 = 597.774\\ m$ e $N_0 = 8.273.601\\ m$. Pede-se:\n",
    "\n",
    "a) Estimar as coordenadas do ponto $P$ e as observações ajustadas, bem como suas precisões; e\n",
    "\n",
    "b) Realizar iterações até que |X|<0,01 m.\n"
   ]
  },
  {
   "cell_type": "markdown",
   "id": "de77b73d-d34f-42b8-9c9c-9db3430d9e86",
   "metadata": {
    "heading_collapsed": "true",
    "tags": []
   },
   "source": [
    "### Exercício 3"
   ]
  },
  {
   "cell_type": "markdown",
   "id": "c1d9b8e3-35b8-440b-99e7-d760fcc3a7c0",
   "metadata": {},
   "source": [
    "A figura abaixo mostra um problema simples de trilateração, em que se deseja calcular as coordenadas (x, y) do ponto $R$. Três distâncias são observadas a partir de três pontos conhecidos $P$, $O$ e $Q$. Todas as observações são de igual precisão e não correlacionadas. As coordenadas fixas dos pontos são $P$ = {0, 5}, $O$ = {0, 0} e $Q$ = {5, 0}. As coordenadas aproximadas do ponto $R$ são $X_0 = 5\\ m$ e $Y_0 = 5\\ m$. Pede-se:\n",
    "\n",
    "a) Estimar as coordenadas do ponto $R$ e as observações ajustadas, bem como suas MVC; \n",
    "\n",
    "b) Realizar iterações até que |X|<0,01 m.\n",
    " "
   ]
  },
  {
   "cell_type": "markdown",
   "id": "822e7e1a-b6f9-464d-ac17-d55ce0e650d5",
   "metadata": {},
   "source": [
    "<img style=\"float: left;\" src=\"tab2.png\" width=\"30%\" >"
   ]
  },
  {
   "cell_type": "markdown",
   "id": "1a2b32d0-4266-460d-9104-bf34f8d26bea",
   "metadata": {},
   "source": [
    "<img style=\"float: left;\" src=\"Ex8.png\" width=\"30%\" >"
   ]
  },
  {
   "cell_type": "markdown",
   "id": "d8805dc0-6746-4889-8b6b-b0ecb2855167",
   "metadata": {
    "heading_collapsed": "true",
    "tags": [],
    "toc-hr-collapsed": true
   },
   "source": [
    "## <span style='color:DarkOrange'> **E. Observações GNSS** </span>"
   ]
  },
  {
   "cell_type": "markdown",
   "id": "41f2bd54-56e6-4ce1-8038-982470c3a1d9",
   "metadata": {
    "heading_collapsed": "true",
    "tags": []
   },
   "source": [
    "### Exercício 1"
   ]
  },
  {
   "cell_type": "markdown",
   "id": "bf1503a6-a04f-48de-afea-af9ed664c21b",
   "metadata": {},
   "source": [
    "Considere a rede GNSS mostrada na Figura abaixo. De posse das diferenças de coordenadas $\\Delta X$, $\\Delta Y$ e $\\Delta Z$ das linhas-base, realize o ajustamento utilizando o método paramétrico. \n",
    "\n",
    "Considerar as estações-base como injunção relativa no ajustamento."
   ]
  },
  {
   "cell_type": "markdown",
   "id": "aa284ba0-325a-495c-82cc-6b2c627e4803",
   "metadata": {},
   "source": [
    "<img style=\"float: left;\" src=\"tab3.png\" width=\"50%\" >"
   ]
  },
  {
   "cell_type": "markdown",
   "id": "0d152899-5afa-454f-8350-d61e67f77f72",
   "metadata": {},
   "source": [
    "<img style=\"float: left;\" src=\"tab4.png\" width=\"50%\" >"
   ]
  },
  {
   "cell_type": "markdown",
   "id": "a48a55e5-a268-40e1-b4e2-c6f27e7ce6e3",
   "metadata": {},
   "source": [
    "<img style=\"float: left;\" src=\"tab5.png\" width=\"50%\" >"
   ]
  },
  {
   "cell_type": "markdown",
   "id": "9c10d5f5-433a-4acb-90cd-d59bb1c04d83",
   "metadata": {},
   "source": [
    "<img style=\"float: left;\" src=\"tab6.png\" width=\"50%\" >"
   ]
  },
  {
   "cell_type": "markdown",
   "id": "076a1445-380b-4e3a-9ecc-8e540616af3d",
   "metadata": {
    "heading_collapsed": "true",
    "tags": []
   },
   "source": [
    "### Exercício 2"
   ]
  },
  {
   "cell_type": "markdown",
   "id": "fff7fa97-5e48-465a-9b07-9e72ffd879cc",
   "metadata": {},
   "source": [
    "Ajustamento de observações GPS: posicionamento absoluto usando o modelo simplificado da Pseudo-Distância.\n",
    "\n",
    "$PD_r^s=\\rho_r^s+c[dt_r-dt^s]+I_r^s+T_r^s$"
   ]
  },
  {
   "cell_type": "markdown",
   "id": "35f66dcc-3de0-4d87-8fcc-8403d160a3d4",
   "metadata": {},
   "source": [
    "<img style=\"float: left;\" src=\"tab14.png\" width=\"70%\" >"
   ]
  },
  {
   "cell_type": "markdown",
   "id": "8fb2d96c-10f4-44b2-a8fb-ba712b6d3353",
   "metadata": {},
   "source": [
    "Coordenadas aproximadas da base e do erro do relógio do receptor. Como este último não é conhecido, adota-se 0."
   ]
  },
  {
   "cell_type": "markdown",
   "id": "62f2a6c1-eac1-4f8f-9a5b-95cc738cc6a9",
   "metadata": {},
   "source": [
    "O vetor $L_b$ é obtido do arquivo RINEX, bem como as coordenadas aproximadas da estação."
   ]
  }
 ],
 "metadata": {
  "kernelspec": {
   "display_name": "Octave",
   "language": "octave",
   "name": "octave"
  },
  "language_info": {
   "file_extension": ".m",
   "help_links": [
    {
     "text": "GNU Octave",
     "url": "https://www.gnu.org/software/octave/support.html"
    },
    {
     "text": "Octave Kernel",
     "url": "https://github.com/Calysto/octave_kernel"
    },
    {
     "text": "MetaKernel Magics",
     "url": "https://metakernel.readthedocs.io/en/latest/source/README.html"
    }
   ],
   "mimetype": "text/x-octave",
   "name": "octave",
   "version": "6.2.0"
  }
 },
 "nbformat": 4,
 "nbformat_minor": 5
}
